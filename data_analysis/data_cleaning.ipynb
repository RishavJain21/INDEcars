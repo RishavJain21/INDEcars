{
 "cells": [
  {
   "cell_type": "code",
   "execution_count": 43,
   "metadata": {},
   "outputs": [],
   "source": [
    "#importing packages\n",
    "import pandas as pd\n",
    "import numpy as np"
   ]
  },
  {
   "cell_type": "code",
   "execution_count": 44,
   "metadata": {},
   "outputs": [],
   "source": [
    "# import file with data\n",
    "path='dataset/cars_engage_2022.csv'\n",
    "df = pd.read_csv(path)"
   ]
  },
  {
   "cell_type": "code",
   "execution_count": 45,
   "metadata": {},
   "outputs": [
    {
     "data": {
      "text/html": [
       "<div>\n",
       "<style scoped>\n",
       "    .dataframe tbody tr th:only-of-type {\n",
       "        vertical-align: middle;\n",
       "    }\n",
       "\n",
       "    .dataframe tbody tr th {\n",
       "        vertical-align: top;\n",
       "    }\n",
       "\n",
       "    .dataframe thead th {\n",
       "        text-align: right;\n",
       "    }\n",
       "</style>\n",
       "<table border=\"1\" class=\"dataframe\">\n",
       "  <thead>\n",
       "    <tr style=\"text-align: right;\">\n",
       "      <th></th>\n",
       "      <th>Make</th>\n",
       "      <th>Model</th>\n",
       "      <th>Variant</th>\n",
       "      <th>Ex-Showroom_Price(Rs)</th>\n",
       "      <th>Displacement(cc)</th>\n",
       "      <th>Cylinders</th>\n",
       "      <th>Valves_Per_Cylinder</th>\n",
       "      <th>Drivetrain</th>\n",
       "      <th>Cylinder_Configuration</th>\n",
       "      <th>Emission_Norm</th>\n",
       "      <th>...</th>\n",
       "      <th>Leather_Wrapped_Steering</th>\n",
       "      <th>Automatic_Headlamps</th>\n",
       "      <th>Engine_Type</th>\n",
       "      <th>ASR_Traction_Control</th>\n",
       "      <th>Cruise_Control</th>\n",
       "      <th>USB_Ports</th>\n",
       "      <th>Heads-Up_Display</th>\n",
       "      <th>Welcome_Lights</th>\n",
       "      <th>Battery</th>\n",
       "      <th>Electric_Range</th>\n",
       "    </tr>\n",
       "  </thead>\n",
       "  <tbody>\n",
       "    <tr>\n",
       "      <th>0</th>\n",
       "      <td>Tata</td>\n",
       "      <td>Nano Genx</td>\n",
       "      <td>Xt</td>\n",
       "      <td>292667</td>\n",
       "      <td>624.0</td>\n",
       "      <td>2.0</td>\n",
       "      <td>2.0</td>\n",
       "      <td>RWD (Rear Wheel Drive)</td>\n",
       "      <td>In-line</td>\n",
       "      <td>BS IV</td>\n",
       "      <td>...</td>\n",
       "      <td>NaN</td>\n",
       "      <td>NaN</td>\n",
       "      <td>NaN</td>\n",
       "      <td>NaN</td>\n",
       "      <td>NaN</td>\n",
       "      <td>NaN</td>\n",
       "      <td>NaN</td>\n",
       "      <td>NaN</td>\n",
       "      <td>NaN</td>\n",
       "      <td>NaN</td>\n",
       "    </tr>\n",
       "    <tr>\n",
       "      <th>1</th>\n",
       "      <td>Tata</td>\n",
       "      <td>Nano Genx</td>\n",
       "      <td>Xe</td>\n",
       "      <td>236447</td>\n",
       "      <td>624.0</td>\n",
       "      <td>2.0</td>\n",
       "      <td>2.0</td>\n",
       "      <td>RWD (Rear Wheel Drive)</td>\n",
       "      <td>In-line</td>\n",
       "      <td>BS IV</td>\n",
       "      <td>...</td>\n",
       "      <td>NaN</td>\n",
       "      <td>NaN</td>\n",
       "      <td>NaN</td>\n",
       "      <td>NaN</td>\n",
       "      <td>NaN</td>\n",
       "      <td>NaN</td>\n",
       "      <td>NaN</td>\n",
       "      <td>NaN</td>\n",
       "      <td>NaN</td>\n",
       "      <td>NaN</td>\n",
       "    </tr>\n",
       "    <tr>\n",
       "      <th>2</th>\n",
       "      <td>Tata</td>\n",
       "      <td>Nano Genx</td>\n",
       "      <td>Emax Xm</td>\n",
       "      <td>296661</td>\n",
       "      <td>624.0</td>\n",
       "      <td>2.0</td>\n",
       "      <td>2.0</td>\n",
       "      <td>RWD (Rear Wheel Drive)</td>\n",
       "      <td>In-line</td>\n",
       "      <td>BS IV</td>\n",
       "      <td>...</td>\n",
       "      <td>NaN</td>\n",
       "      <td>NaN</td>\n",
       "      <td>NaN</td>\n",
       "      <td>NaN</td>\n",
       "      <td>NaN</td>\n",
       "      <td>NaN</td>\n",
       "      <td>NaN</td>\n",
       "      <td>NaN</td>\n",
       "      <td>NaN</td>\n",
       "      <td>NaN</td>\n",
       "    </tr>\n",
       "    <tr>\n",
       "      <th>3</th>\n",
       "      <td>Tata</td>\n",
       "      <td>Nano Genx</td>\n",
       "      <td>Xta</td>\n",
       "      <td>334768</td>\n",
       "      <td>624.0</td>\n",
       "      <td>2.0</td>\n",
       "      <td>2.0</td>\n",
       "      <td>RWD (Rear Wheel Drive)</td>\n",
       "      <td>In-line</td>\n",
       "      <td>BS IV</td>\n",
       "      <td>...</td>\n",
       "      <td>NaN</td>\n",
       "      <td>NaN</td>\n",
       "      <td>NaN</td>\n",
       "      <td>NaN</td>\n",
       "      <td>NaN</td>\n",
       "      <td>NaN</td>\n",
       "      <td>NaN</td>\n",
       "      <td>NaN</td>\n",
       "      <td>NaN</td>\n",
       "      <td>NaN</td>\n",
       "    </tr>\n",
       "    <tr>\n",
       "      <th>4</th>\n",
       "      <td>Tata</td>\n",
       "      <td>Nano Genx</td>\n",
       "      <td>Xm</td>\n",
       "      <td>272223</td>\n",
       "      <td>624.0</td>\n",
       "      <td>2.0</td>\n",
       "      <td>2.0</td>\n",
       "      <td>RWD (Rear Wheel Drive)</td>\n",
       "      <td>In-line</td>\n",
       "      <td>BS IV</td>\n",
       "      <td>...</td>\n",
       "      <td>NaN</td>\n",
       "      <td>NaN</td>\n",
       "      <td>NaN</td>\n",
       "      <td>NaN</td>\n",
       "      <td>NaN</td>\n",
       "      <td>NaN</td>\n",
       "      <td>NaN</td>\n",
       "      <td>NaN</td>\n",
       "      <td>NaN</td>\n",
       "      <td>NaN</td>\n",
       "    </tr>\n",
       "  </tbody>\n",
       "</table>\n",
       "<p>5 rows × 140 columns</p>\n",
       "</div>"
      ],
      "text/plain": [
       "   Make      Model  Variant  Ex-Showroom_Price(Rs)  Displacement(cc)  \\\n",
       "0  Tata  Nano Genx       Xt                 292667             624.0   \n",
       "1  Tata  Nano Genx       Xe                 236447             624.0   \n",
       "2  Tata  Nano Genx  Emax Xm                 296661             624.0   \n",
       "3  Tata  Nano Genx      Xta                 334768             624.0   \n",
       "4  Tata  Nano Genx       Xm                 272223             624.0   \n",
       "\n",
       "   Cylinders  Valves_Per_Cylinder              Drivetrain  \\\n",
       "0        2.0                  2.0  RWD (Rear Wheel Drive)   \n",
       "1        2.0                  2.0  RWD (Rear Wheel Drive)   \n",
       "2        2.0                  2.0  RWD (Rear Wheel Drive)   \n",
       "3        2.0                  2.0  RWD (Rear Wheel Drive)   \n",
       "4        2.0                  2.0  RWD (Rear Wheel Drive)   \n",
       "\n",
       "  Cylinder_Configuration Emission_Norm  ... Leather_Wrapped_Steering  \\\n",
       "0                In-line         BS IV  ...                      NaN   \n",
       "1                In-line         BS IV  ...                      NaN   \n",
       "2                In-line         BS IV  ...                      NaN   \n",
       "3                In-line         BS IV  ...                      NaN   \n",
       "4                In-line         BS IV  ...                      NaN   \n",
       "\n",
       "  Automatic_Headlamps  Engine_Type ASR_Traction_Control  Cruise_Control  \\\n",
       "0                 NaN          NaN                  NaN             NaN   \n",
       "1                 NaN          NaN                  NaN             NaN   \n",
       "2                 NaN          NaN                  NaN             NaN   \n",
       "3                 NaN          NaN                  NaN             NaN   \n",
       "4                 NaN          NaN                  NaN             NaN   \n",
       "\n",
       "   USB_Ports  Heads-Up_Display Welcome_Lights  Battery  Electric_Range  \n",
       "0        NaN               NaN            NaN      NaN             NaN  \n",
       "1        NaN               NaN            NaN      NaN             NaN  \n",
       "2        NaN               NaN            NaN      NaN             NaN  \n",
       "3        NaN               NaN            NaN      NaN             NaN  \n",
       "4        NaN               NaN            NaN      NaN             NaN  \n",
       "\n",
       "[5 rows x 140 columns]"
      ]
     },
     "execution_count": 45,
     "metadata": {},
     "output_type": "execute_result"
    }
   ],
   "source": [
    "df.head()"
   ]
  },
  {
   "cell_type": "code",
   "execution_count": 46,
   "metadata": {},
   "outputs": [],
   "source": [
    "#dropping columns in which more than two-third the data is Null\n",
    "df.replace(\"?\", np.NaN, inplace = True)\n",
    "missing_data = df.isnull()\n",
    "rows=df.shape[0]\n",
    "for c in missing_data.columns.values.tolist():\n",
    "    if(missing_data[c].values.sum()>2*rows/3):\n",
    "        #drop column\n",
    "        df=df.drop(columns=c)"
   ]
  },
  {
   "cell_type": "code",
   "execution_count": 47,
   "metadata": {},
   "outputs": [
    {
     "data": {
      "text/plain": [
       "(1276, 114)"
      ]
     },
     "execution_count": 47,
     "metadata": {},
     "output_type": "execute_result"
    }
   ],
   "source": [
    "df.shape"
   ]
  },
  {
   "cell_type": "code",
   "execution_count": 48,
   "metadata": {},
   "outputs": [],
   "source": [
    "# filling false in null values of boolean type columns\n",
    "cols=df.columns\n",
    "for c in cols:\n",
    "    if(df[c].nunique()<=1):\n",
    "        df[c].fillna(value=False, inplace=True)"
   ]
  },
  {
   "cell_type": "code",
   "execution_count": 49,
   "metadata": {},
   "outputs": [
    {
     "data": {
      "text/plain": [
       "Make                         object\n",
       "Model                        object\n",
       "Variant                      object\n",
       "Ex-Showroom_Price(Rs)         int64\n",
       "Displacement(cc)            float64\n",
       "                             ...   \n",
       "Rain_Sensing_Wipers            bool\n",
       "Leather_Wrapped_Steering       bool\n",
       "Automatic_Headlamps            bool\n",
       "ASR_Traction_Control           bool\n",
       "Cruise_Control                 bool\n",
       "Length: 114, dtype: object"
      ]
     },
     "execution_count": 49,
     "metadata": {},
     "output_type": "execute_result"
    }
   ],
   "source": [
    "df.dtypes"
   ]
  },
  {
   "cell_type": "code",
   "execution_count": 50,
   "metadata": {},
   "outputs": [
    {
     "name": "stdout",
     "output_type": "stream",
     "text": [
      "Displacement(cc)\n",
      "Cylinders\n",
      "Valves_Per_Cylinder\n",
      "Fuel_Tank_Capacity(litres)\n",
      "Height(mm)\n",
      "Length(mm)\n",
      "Width(mm)\n",
      "Doors\n",
      "City_Mileage(km/litre)\n",
      "Highway_Mileage(km/litre)\n",
      "ARAI_Certified_Mileage(km/litre)\n",
      "Kerb_Weight(Kg)\n",
      "Ground_Clearance(mm)\n",
      "Front_Track(mm)\n",
      "Rear_Track(mm)\n",
      "Seating_Capacity\n",
      "Wheelbase\n",
      "Boot_Space(Litres)\n",
      "Minimum_Turning_Radius(meter)\n",
      "Number_of_Airbags\n"
     ]
    }
   ],
   "source": [
    "# filling mean in null values of float type columns\n",
    "for c in cols:\n",
    "    if(df[c].dtype==float):\n",
    "        print(c)\n",
    "        mean=df[c].mean()\n",
    "        df[c].fillna(value=round(mean,0), inplace=True)"
   ]
  },
  {
   "cell_type": "code",
   "execution_count": 51,
   "metadata": {},
   "outputs": [
    {
     "name": "stdout",
     "output_type": "stream",
     "text": [
      "Make\n",
      "Model\n",
      "Variant\n",
      "Drivetrain\n",
      "Cylinder_Configuration\n",
      "Emission_Norm\n",
      "Engine_Location\n",
      "Fuel_System\n",
      "Fuel_Type\n",
      "Body_Type\n",
      "Gears\n",
      "Front_Brakes\n",
      "Rear_Brakes\n",
      "Front_Suspension\n",
      "Rear_Suspension\n",
      "Front_Tyre_&_Rim\n",
      "Rear_Tyre_&_Rim\n",
      "Power_Steering\n",
      "Power_Windows\n",
      "Keyless_Entry\n",
      "Power\n",
      "Torque\n",
      "Odo\n",
      "Speedo\n",
      "Tacho\n",
      "Trip\n",
      "Seats_Material\n",
      "Type\n",
      "Wheels_Size\n",
      "12v_Power_Outlet\n",
      "Audiosystem\n",
      "Basic_Warranty\n",
      "Boot-lid_Opener\n",
      "Clock\n",
      "Cup_Holders\n",
      "Door_Pockets\n",
      "Extended_Warranty\n",
      "Fuel-lid_Opener\n",
      "Fuel_Gauge\n",
      "Handbrake\n",
      "Instrument_Console\n",
      "Sun_Visor\n",
      "Third_Row_AC_Vents\n",
      "Ventilation_System\n",
      "Headlight_Reminder\n",
      "Adjustable_Headrests\n",
      "Gross_Vehicle_Weight\n",
      "Airbags\n",
      "Adjustable_Steering_Column\n",
      "Parking_Assistance\n",
      "Infotainment_Screen\n",
      "Multifunction_Steering_Wheel\n",
      "Seat_Height_Adjustment\n",
      "Rear_Center_Armrest\n"
     ]
    }
   ],
   "source": [
    "# filling mode in null values of object type columns\n",
    "for c in cols:\n",
    "    if(df[c].dtype==object):\n",
    "        print(c)\n",
    "        df.fillna(value=\"Not Specified\", inplace=True)"
   ]
  },
  {
   "cell_type": "code",
   "execution_count": 52,
   "metadata": {},
   "outputs": [],
   "source": [
    "# since we are making a model to predict Price\n",
    "# the rows with Ex-Showroom_Price as null can be dropped\n",
    "df.dropna(subset=['Ex-Showroom_Price(Rs)'], axis=0, inplace=True)"
   ]
  },
  {
   "cell_type": "code",
   "execution_count": 53,
   "metadata": {},
   "outputs": [
    {
     "name": "stdout",
     "output_type": "stream",
     "text": [
      "There are no null values in dataframe\n"
     ]
    }
   ],
   "source": [
    "if(df.isnull().sum().sum()==0):\n",
    "    print(\"There are no null values in dataframe\")"
   ]
  },
  {
   "cell_type": "code",
   "execution_count": 54,
   "metadata": {},
   "outputs": [],
   "source": [
    "# saving non_null data\n",
    "df.to_csv('dataset/no_null_df.csv')"
   ]
  },
  {
   "cell_type": "code",
   "execution_count": 55,
   "metadata": {},
   "outputs": [
    {
     "name": "stdout",
     "output_type": "stream",
     "text": [
      "Displacement(cc)\n",
      "Cylinders\n",
      "Valves_Per_Cylinder\n",
      "Fuel_Tank_Capacity(litres)\n",
      "Height(mm)\n",
      "Length(mm)\n",
      "Width(mm)\n",
      "Doors\n",
      "City_Mileage(km/litre)\n",
      "Highway_Mileage(km/litre)\n",
      "ARAI_Certified_Mileage(km/litre)\n",
      "Kerb_Weight(Kg)\n",
      "Ground_Clearance(mm)\n",
      "Front_Track(mm)\n",
      "Rear_Track(mm)\n",
      "Seating_Capacity\n",
      "Wheelbase\n",
      "Boot_Space(Litres)\n",
      "Minimum_Turning_Radius(meter)\n",
      "Number_of_Airbags\n"
     ]
    }
   ],
   "source": [
    "# normalization\n",
    "cols=df.columns\n",
    "for c in cols:\n",
    "    if(df[c].dtype==float):\n",
    "        df[c] = (df[c]-df[c].min())/(df[c].max()-df[c].min())\n",
    "        print(c)"
   ]
  },
  {
   "cell_type": "code",
   "execution_count": 56,
   "metadata": {},
   "outputs": [
    {
     "name": "stdout",
     "output_type": "stream",
     "text": [
      "(1276, 114)\n",
      "(1276, 3849)\n"
     ]
    }
   ],
   "source": [
    "#making dummy variables for catagorical variables\n",
    "print(df.shape)\n",
    "\n",
    "for c in cols:\n",
    "    if(df[c].dtype==object):\n",
    "        dummy_variable = pd.get_dummies(df[c])\n",
    "        cols1=dummy_variable.columns\n",
    "        for c1 in cols1:\n",
    "            dummy_variable.rename(columns={c1:c+\"_\"+c1}, inplace=True)\n",
    "        df = pd.concat([df, dummy_variable], axis=1)\n",
    "        df.drop(c, axis = 1, inplace=True)\n",
    "\n",
    "print(df.shape)"
   ]
  },
  {
   "cell_type": "code",
   "execution_count": 57,
   "metadata": {},
   "outputs": [],
   "source": [
    "# saving cleaned data\n",
    "df.to_csv('dataset/clean_df.csv')"
   ]
  }
 ],
 "metadata": {
  "interpreter": {
   "hash": "af45c3af30c42971a3c78755035487eb6fd616bf5299be30e1a131c8bf1a2204"
  },
  "kernelspec": {
   "display_name": "Python 3.10.4 64-bit",
   "language": "python",
   "name": "python3"
  },
  "language_info": {
   "codemirror_mode": {
    "name": "ipython",
    "version": 3
   },
   "file_extension": ".py",
   "mimetype": "text/x-python",
   "name": "python",
   "nbconvert_exporter": "python",
   "pygments_lexer": "ipython3",
   "version": "3.10.4"
  },
  "orig_nbformat": 4
 },
 "nbformat": 4,
 "nbformat_minor": 2
}
